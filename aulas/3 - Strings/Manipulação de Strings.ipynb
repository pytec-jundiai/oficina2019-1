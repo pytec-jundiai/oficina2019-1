{
 "cells": [
  {
   "cell_type": "markdown",
   "metadata": {},
   "source": [
    "## Manipulação de Strings"
   ]
  },
  {
   "cell_type": "code",
   "execution_count": 2,
   "metadata": {},
   "outputs": [],
   "source": [
    "texto = 'Programar em Python é fácil demais'"
   ]
  },
  {
   "cell_type": "markdown",
   "metadata": {},
   "source": [
    "len( ) - Retorna o Tamanho da String"
   ]
  },
  {
   "cell_type": "code",
   "execution_count": 5,
   "metadata": {},
   "outputs": [
    {
     "data": {
      "text/plain": [
       "34"
      ]
     },
     "execution_count": 5,
     "metadata": {},
     "output_type": "execute_result"
    }
   ],
   "source": [
    "len(texto)"
   ]
  },
  {
   "cell_type": "markdown",
   "metadata": {},
   "source": [
    ".count( ) - Mostra quantas vezes a string aparece"
   ]
  },
  {
   "cell_type": "code",
   "execution_count": 9,
   "metadata": {},
   "outputs": [
    {
     "data": {
      "text/plain": [
       "1"
      ]
     },
     "execution_count": 9,
     "metadata": {},
     "output_type": "execute_result"
    }
   ],
   "source": [
    "texto.count('Python')"
   ]
  },
  {
   "cell_type": "markdown",
   "metadata": {},
   "source": [
    ".find( ) - Informar Posição da String"
   ]
  },
  {
   "cell_type": "code",
   "execution_count": 7,
   "metadata": {},
   "outputs": [
    {
     "name": "stdout",
     "output_type": "stream",
     "text": [
      "0\n",
      "True\n"
     ]
    }
   ],
   "source": [
    "c1 = texto.find('demais')\n",
    "print(c1)\n",
    "\n",
    "teste = 'fácil' in texto\n",
    "print(teste)"
   ]
  },
  {
   "cell_type": "markdown",
   "metadata": {},
   "source": [
    ".replace( ) - Alterar String"
   ]
  },
  {
   "cell_type": "code",
   "execution_count": 11,
   "metadata": {},
   "outputs": [
    {
     "name": "stdout",
     "output_type": "stream",
     "text": [
      "Programar em Python é TOP demais\n"
     ]
    }
   ],
   "source": [
    "novo = texto.replace('fácil','TOP')\n",
    "print(novo)"
   ]
  },
  {
   "cell_type": "markdown",
   "metadata": {},
   "source": [
    "Maiúsculas e Minúsculas"
   ]
  },
  {
   "cell_type": "code",
   "execution_count": 12,
   "metadata": {},
   "outputs": [
    {
     "name": "stdout",
     "output_type": "stream",
     "text": [
      "PROGRAMAR EM PYTHON É FÁCIL DEMAIS\n",
      "programar em python é fácil demais\n"
     ]
    }
   ],
   "source": [
    "c1 = texto.upper()\n",
    "print(c1)\n",
    "\n",
    "c1 = texto.lower()\n",
    "print(c1)"
   ]
  },
  {
   "cell_type": "markdown",
   "metadata": {},
   "source": [
    "1° Letra(s) maiúscula(s)"
   ]
  },
  {
   "cell_type": "code",
   "execution_count": 13,
   "metadata": {},
   "outputs": [
    {
     "name": "stdout",
     "output_type": "stream",
     "text": [
      "Programar Em Python É Fácil Demais\n",
      "Programar em python é fácil demais\n"
     ]
    }
   ],
   "source": [
    "c1 = texto.title()\n",
    "print(c1)\n",
    "\n",
    "c1 = texto.capitalize()\n",
    "print(c1)"
   ]
  },
  {
   "cell_type": "markdown",
   "metadata": {},
   "source": [
    "#### Separando/Juntando Strings"
   ]
  },
  {
   "cell_type": "code",
   "execution_count": 14,
   "metadata": {
    "scrolled": true
   },
   "outputs": [
    {
     "name": "stdout",
     "output_type": "stream",
     "text": [
      "['Programar', 'em', 'Python', 'é', 'fácil', 'demais']\n",
      "Programar-em-Python-é-fácil-demais\n"
     ]
    }
   ],
   "source": [
    "c1 = texto.split()\n",
    "print(c1)\n",
    "\n",
    "c1 = '-'.join(c1)\n",
    "print(c1)"
   ]
  },
  {
   "cell_type": "markdown",
   "metadata": {},
   "source": [
    "Removendo Espaços em Brancos"
   ]
  },
  {
   "cell_type": "code",
   "execution_count": 15,
   "metadata": {},
   "outputs": [
    {
     "name": "stdout",
     "output_type": "stream",
     "text": [
      "Fatec 2019\n"
     ]
    }
   ],
   "source": [
    "texto = '     Fatec 2019       '\n",
    "print(texto.strip())"
   ]
  },
  {
   "cell_type": "markdown",
   "metadata": {},
   "source": [
    "#### Fatiamento de String"
   ]
  },
  {
   "cell_type": "code",
   "execution_count": 17,
   "metadata": {},
   "outputs": [
    {
     "name": "stdout",
     "output_type": "stream",
     "text": [
      "P\n"
     ]
    }
   ],
   "source": [
    "texto = 'Programar em Python é fácil demais'\n",
    "print(texto[0])"
   ]
  },
  {
   "cell_type": "markdown",
   "metadata": {},
   "source": [
    "texto [ começo : final : como fatiar ]"
   ]
  },
  {
   "cell_type": "code",
   "execution_count": null,
   "metadata": {},
   "outputs": [],
   "source": [
    "print(texto[13:])\n",
    "\n",
    "print(texto[:20])\n",
    "\n",
    "print(texto[:]) "
   ]
  },
  {
   "cell_type": "code",
   "execution_count": 23,
   "metadata": {},
   "outputs": [
    {
     "name": "stdout",
     "output_type": "stream",
     "text": [
      "Pormre yhnéfcldmi\n",
      "Peém\n"
     ]
    }
   ],
   "source": [
    "# de 2 em 2\n",
    "print(texto[::2])\n",
    "\n",
    "# de 10 em 10\n",
    "print(texto[::10])"
   ]
  },
  {
   "cell_type": "code",
   "execution_count": 24,
   "metadata": {},
   "outputs": [
    {
     "name": "stdout",
     "output_type": "stream",
     "text": [
      "P i\n"
     ]
    }
   ],
   "source": [
    "print(texto[13:30:6])"
   ]
  },
  {
   "cell_type": "markdown",
   "metadata": {},
   "source": [
    "#### Proposta\n",
    "1 - Escreva um programa que:\n",
    "* Receba o Nome Completo de uma pessoa;\n",
    "* Mostre seu seu comprimento (não contando os espaços);\n",
    "* E verifique se o nome da pessoa possue a letra 'e'.\n",
    "\n",
    "2 - Faça um algoritmo que cheque se a palavra ou número inserido pelo usuário é o mesmo quando lido ao contrário.  \n",
    "Ex: \n",
    "* ama : ama\n",
    "* arara : arara\n",
    "* 121 : 121\n",
    "* 1001 : 1001"
   ]
  }
 ],
 "metadata": {
  "kernelspec": {
   "display_name": "Python 3",
   "language": "python",
   "name": "python3"
  },
  "language_info": {
   "codemirror_mode": {
    "name": "ipython",
    "version": 3
   },
   "file_extension": ".py",
   "mimetype": "text/x-python",
   "name": "python",
   "nbconvert_exporter": "python",
   "pygments_lexer": "ipython3",
   "version": "3.7.2"
  }
 },
 "nbformat": 4,
 "nbformat_minor": 2
}
