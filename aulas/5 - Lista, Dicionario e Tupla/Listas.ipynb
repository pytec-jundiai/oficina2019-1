{
 "cells": [
  {
   "cell_type": "code",
   "execution_count": null,
   "metadata": {},
   "outputs": [],
   "source": [
    "## Listas"
   ]
  },
  {
   "cell_type": "code",
   "execution_count": null,
   "metadata": {},
   "outputs": [],
   "source": [
    "#Declarando uma lista\n",
    "\n",
    "lista = []\n",
    "#ou\n",
    "lista = list()"
   ]
  },
  {
   "cell_type": "code",
   "execution_count": null,
   "metadata": {},
   "outputs": [],
   "source": [
    "lista = [1,  2,  3,  4]\n",
    "        #0   1   2   3  ...\n",
    "\n",
    "#A lista possui indices \n",
    "print(lista)"
   ]
  },
  {
   "cell_type": "code",
   "execution_count": null,
   "metadata": {},
   "outputs": [],
   "source": [
    "#Metodo append adiciona por padrao um elemento no final da lista\n",
    "\n",
    "lista.append(5)\n",
    "print(lista)"
   ]
  },
  {
   "cell_type": "code",
   "execution_count": null,
   "metadata": {},
   "outputs": [],
   "source": [
    "#Metodo extend adiciona elementos de uma lista em outra\n",
    "\n",
    "lista2 = [0,0,0,0]\n",
    "lista.extend(lista2)\n",
    "print('entend',lista)"
   ]
  },
  {
   "cell_type": "code",
   "execution_count": null,
   "metadata": {},
   "outputs": [],
   "source": [
    "#Mostrando a diferença entre o append e o extend\n",
    "\n",
    "lista = [1,2,3,4]\n",
    "lista.append(lista2)\n",
    "print(lista)\n"
   ]
  },
  {
   "cell_type": "code",
   "execution_count": null,
   "metadata": {},
   "outputs": [],
   "source": [
    "#Metodo insert() adiciona elementos em uma lista em uma posição especifica\n",
    "\n",
    "lista.insert(1,800)\n",
    "print(lista)"
   ]
  },
  {
   "cell_type": "code",
   "execution_count": null,
   "metadata": {},
   "outputs": [],
   "source": [
    "#Deletando elementos de uma lista\n",
    "\n",
    "del lista[1]\n",
    "print(lista)"
   ]
  },
  {
   "cell_type": "code",
   "execution_count": null,
   "metadata": {},
   "outputs": [],
   "source": [
    "#Metodo pop por padrao apaga o ultimo elemento da lista\n",
    "#Más tambem é possivel apagar por indices\n",
    "\n",
    "lista.pop()\n",
    "print(lista)\n",
    "\n",
    "lista.pop(2)\n",
    "print(lista)"
   ]
  },
  {
   "cell_type": "code",
   "execution_count": null,
   "metadata": {},
   "outputs": [],
   "source": [
    "#Declarando uma nova lista\n",
    "\n",
    "lista_mercado = ['ovos','leite','pão','café']"
   ]
  },
  {
   "cell_type": "code",
   "execution_count": null,
   "metadata": {},
   "outputs": [],
   "source": [
    "#Metodo remove apaga por valor\n",
    "\n",
    "lista_mercado.remove('leite')\n",
    "print(lista_mercado)"
   ]
  },
  {
   "cell_type": "code",
   "execution_count": null,
   "metadata": {},
   "outputs": [],
   "source": [
    "#Alterando os elementos de uma lista\n",
    "\n",
    "lista_mercado[2] = 'amaciante'\n",
    "print(lista_mercado)"
   ]
  },
  {
   "cell_type": "code",
   "execution_count": null,
   "metadata": {},
   "outputs": [],
   "source": [
    "#Listas aninhadas(uma lista dentro da outra)\n",
    "\n",
    "lista = [[1,8,5,6],[1,9,3],[9,8,7,4]]\n",
    "print(lista)"
   ]
  },
  {
   "cell_type": "code",
   "execution_count": null,
   "metadata": {},
   "outputs": [],
   "source": [
    "#Somando listas\n",
    "\n",
    "lista1 = [1,8,6,9]\n",
    "lista2 = [6,2,4,9]\n",
    "soma = lista1 + lista2\n",
    "\n",
    "print(soma)"
   ]
  },
  {
   "cell_type": "code",
   "execution_count": null,
   "metadata": {},
   "outputs": [],
   "source": [
    "#Metodo index localiza e informa o indice de um elemento na lista\n",
    "\n",
    "lista = [1,2,3,4,5,800]\n",
    "print('O elemento 800 está na posição',lista.index(800))"
   ]
  },
  {
   "cell_type": "code",
   "execution_count": null,
   "metadata": {},
   "outputs": [],
   "source": [
    "#Parametro Reverse inverte os elementos de uma lista\n",
    "\n",
    "lista = [1,2,3,4,5]\n",
    "lista.reverse()\n",
    "\n",
    "print(lista)"
   ]
  },
  {
   "cell_type": "code",
   "execution_count": null,
   "metadata": {},
   "outputs": [],
   "source": [
    "#Metodo sort ordena os elementos de uma lista em ordem alfabetica\n",
    "\n",
    "lista = [5,9,4,1,7,6,3,2]\n",
    "lista.sort()\n",
    "\n",
    "print(lista)"
   ]
  },
  {
   "cell_type": "code",
   "execution_count": null,
   "metadata": {},
   "outputs": [],
   "source": [
    "#Parametro reverse=True inverte os elementos\n",
    "\n",
    "lista = [1,2,3,4,5,6,7,8,9]\n",
    "lista.sort(reverse=True)\n",
    "\n",
    "print(lista)"
   ]
  },
  {
   "cell_type": "code",
   "execution_count": null,
   "metadata": {},
   "outputs": [],
   "source": [
    "#Exercicios\n",
    "\n",
    "'''1) Crie um exercicio que faça o usuario entrar 5 valores,ao longo do\n",
    "programa faça com que esses valores sejam adicionados em uma listra, depois exiba\n",
    "esses valores.\n",
    "\n",
    "2) Faça um Programa que leia 5 notas e mostre na tela:\n",
    "\n",
    "- As notas adicionados em uma lista\n",
    "- A soma das notas\n",
    "- A média das notas\n",
    "'''"
   ]
  },
  {
   "cell_type": "code",
   "execution_count": null,
   "metadata": {},
   "outputs": [],
   "source": [
    "lista = list()\n",
    "for indice in range(0,5):\n",
    "    num = int(input('Digite um valor: '))\n",
    "    lista.append(num)\n",
    "    \n",
    "print(f'Numeros aidiconados foram {lista}')"
   ]
  },
  {
   "cell_type": "code",
   "execution_count": null,
   "metadata": {},
   "outputs": [],
   "source": [
    "lista = []\n",
    "cont = 0\n",
    "while cont < 5:\n",
    "    num = int(input('Digite um numero: '))\n",
    "    cont = cont + 1\n",
    "    lista.append(num)\n",
    "    \n",
    "print(lista)"
   ]
  }
 ],
 "metadata": {
  "kernelspec": {
   "display_name": "Python 3",
   "language": "python",
   "name": "python3"
  },
  "language_info": {
   "codemirror_mode": {
    "name": "ipython",
    "version": 3
   },
   "file_extension": ".py",
   "mimetype": "text/x-python",
   "name": "python",
   "nbconvert_exporter": "python",
   "pygments_lexer": "ipython3",
   "version": "3.7.0"
  }
 },
 "nbformat": 4,
 "nbformat_minor": 2
}
