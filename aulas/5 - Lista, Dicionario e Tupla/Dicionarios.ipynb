{
 "cells": [
  {
   "cell_type": "code",
   "execution_count": null,
   "metadata": {},
   "outputs": [],
   "source": [
    "#Dicionarios"
   ]
  },
  {
   "cell_type": "code",
   "execution_count": 1,
   "metadata": {},
   "outputs": [
    {
     "name": "stdout",
     "output_type": "stream",
     "text": [
      "{'Marca': 'Ford', 'Modelo': 'Mustang', 'Ano': 1994}\n"
     ]
    }
   ],
   "source": [
    "#Criando um dicionario\n",
    "\n",
    "dici = {\n",
    "    'Marca': 'Ford',\n",
    "    'Modelo':'Mustang',\n",
    "    'Ano': 1994\n",
    "}\n",
    "\n",
    "print(dici)"
   ]
  },
  {
   "cell_type": "code",
   "execution_count": 6,
   "metadata": {},
   "outputs": [
    {
     "name": "stdout",
     "output_type": "stream",
     "text": [
      "{'Marca': 'Ford', 'Modelo': 'Mustang', 'Ano': 1994}\n"
     ]
    }
   ],
   "source": [
    "#Metodo copy() retorna uma copia do dicionario\n",
    "\n",
    "dici2 = dici.copy()\n",
    "\n",
    "print(dici2)"
   ]
  },
  {
   "cell_type": "code",
   "execution_count": 7,
   "metadata": {},
   "outputs": [
    {
     "name": "stdout",
     "output_type": "stream",
     "text": [
      "{}\n"
     ]
    }
   ],
   "source": [
    "#Metodo clear() remove todos os elementos de um dicionario\n",
    "\n",
    "dici2.clear()\n",
    "print(dici2)"
   ]
  },
  {
   "cell_type": "code",
   "execution_count": 11,
   "metadata": {},
   "outputs": [
    {
     "name": "stdout",
     "output_type": "stream",
     "text": [
      "Chave Retornado: Marca\n",
      "Chave Retornado: Modelo\n",
      "Chave Retornado: Ano\n"
     ]
    }
   ],
   "source": [
    "#Metodo keys() retorna as chaves do dicionario\n",
    "\n",
    "for chave in dici.keys():\n",
    "    print('Chave Retornado:',chave)"
   ]
  },
  {
   "cell_type": "code",
   "execution_count": 12,
   "metadata": {},
   "outputs": [
    {
     "name": "stdout",
     "output_type": "stream",
     "text": [
      "Valor Retornado: Ford\n",
      "Valor Retornado: Mustang\n",
      "Valor Retornado: 1994\n"
     ]
    }
   ],
   "source": [
    "#Metodo value() retorna os valores do dicionario\n",
    "\n",
    "for valor in dici.values():\n",
    "    print('Valor Retornado:',valor)"
   ]
  },
  {
   "cell_type": "code",
   "execution_count": 17,
   "metadata": {},
   "outputs": [
    {
     "name": "stdout",
     "output_type": "stream",
     "text": [
      "Chave: Marca \n",
      "Valor: Ford\n",
      "\n",
      "\n",
      "Chave: Modelo \n",
      "Valor: Mustang\n",
      "\n",
      "\n",
      "Chave: Ano \n",
      "Valor: 1994\n",
      "\n",
      "\n"
     ]
    }
   ],
   "source": [
    "#Metodo items() retorna a chave e o valor de um dicionario\n",
    "\n",
    "for chave,valor in dici.items():\n",
    "    print(f'Chave: {chave} \\nValor: {valor}')\n",
    "    print('\\n')"
   ]
  },
  {
   "cell_type": "code",
   "execution_count": 18,
   "metadata": {},
   "outputs": [
    {
     "name": "stdout",
     "output_type": "stream",
     "text": [
      "Valor da chave Marca: Ford\n"
     ]
    }
   ],
   "source": [
    "#Metodo get() retorna o valor de uma determinada chave\n",
    "\n",
    "valor = dici.get('Marca')\n",
    "print('Valor da chave Marca:',valor)"
   ]
  },
  {
   "cell_type": "code",
   "execution_count": 19,
   "metadata": {},
   "outputs": [
    {
     "name": "stdout",
     "output_type": "stream",
     "text": [
      "{'Modelo': 'Mustang', 'Ano': 1994}\n"
     ]
    }
   ],
   "source": [
    "#Metodo pop() remove o elemento de uma especificada chave\n",
    "\n",
    "dici2 = dici.copy()\n",
    "\n",
    "dici2.pop('Marca')\n",
    "print(dici2)"
   ]
  },
  {
   "cell_type": "code",
   "execution_count": 20,
   "metadata": {},
   "outputs": [
    {
     "name": "stdout",
     "output_type": "stream",
     "text": [
      "{'Marca': 'Ford', 'Modelo': 'Mustang'}\n"
     ]
    }
   ],
   "source": [
    "#Metodo popitem() remove o último par de chave e valor\n",
    "\n",
    "dici.popitem()\n",
    "print(dici)"
   ]
  },
  {
   "cell_type": "code",
   "execution_count": 22,
   "metadata": {},
   "outputs": [
    {
     "name": "stdout",
     "output_type": "stream",
     "text": [
      "Valor da chave existente: Mustang\n"
     ]
    }
   ],
   "source": [
    "# setdefault() retorna o valor da chave, caso não exista será criada\n",
    "# Com chave já criada:\n",
    "\n",
    "valor = dici.setdefault('Modelo','Mustang')\n",
    "print('Valor da chave existente:', valor)"
   ]
  },
  {
   "cell_type": "code",
   "execution_count": 24,
   "metadata": {
    "scrolled": true
   },
   "outputs": [
    {
     "name": "stdout",
     "output_type": "stream",
     "text": [
      "Valor da inexistente: Preto \n",
      "\n"
     ]
    }
   ],
   "source": [
    "# Com chave não criada:\n",
    "\n",
    "valor = dici.setdefault('Cor', 'Preto')\n",
    "print('Valor da inexistente:', valor,)"
   ]
  },
  {
   "cell_type": "code",
   "execution_count": 3,
   "metadata": {
    "scrolled": false
   },
   "outputs": [],
   "source": [
    "cores = {\n",
    "    'cor1':'azul',\n",
    "    'cor2':'lilas',\n",
    "    'cor3':'amarelo'\n",
    "}"
   ]
  },
  {
   "cell_type": "code",
   "execution_count": 4,
   "metadata": {},
   "outputs": [
    {
     "name": "stdout",
     "output_type": "stream",
     "text": [
      "{'cor1': 'azul', 'cor2': 'lilas', 'cor3': 'amarelo', 'cor5': 'roxo'}\n"
     ]
    }
   ],
   "source": [
    "# update() insere par de {chave : valor}\n",
    "\n",
    "\n",
    "cores.update({'cor5':'roxo'})\n",
    "print(cores)"
   ]
  },
  {
   "cell_type": "code",
   "execution_count": null,
   "metadata": {},
   "outputs": [],
   "source": [
    "'''\n",
    "Ex2 - Crie um programa onde 4 jogadores joguem um dado e tenham resultados aleatórios.\n",
    "Guarde esses resultados em um dicionário em Python. No final, coloque esse dicionário em ordem\n",
    "sabendo que o vencedor tirou o maior número no dado\n",
    "\n",
    "Ex1 -  Faça um programa que leia nome e média de um aluno, guardando também a situação em um dicionário.\n",
    "No final, mostre o conteúdo da estrutura na tela.\n",
    "\n",
    " \n",
    "'''"
   ]
  }
 ],
 "metadata": {
  "kernelspec": {
   "display_name": "Python 3",
   "language": "python",
   "name": "python3"
  },
  "language_info": {
   "codemirror_mode": {
    "name": "ipython",
    "version": 3
   },
   "file_extension": ".py",
   "mimetype": "text/x-python",
   "name": "python",
   "nbconvert_exporter": "python",
   "pygments_lexer": "ipython3",
   "version": "3.7.0"
  }
 },
 "nbformat": 4,
 "nbformat_minor": 2
}
