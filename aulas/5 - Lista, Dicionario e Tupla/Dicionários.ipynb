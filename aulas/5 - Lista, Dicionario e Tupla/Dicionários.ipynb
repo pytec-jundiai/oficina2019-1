{
 "cells": [
  {
   "cell_type": "markdown",
   "metadata": {},
   "source": [
    "# Dicionários  \n",
    "#### Estrutura"
   ]
  },
  {
   "cell_type": "code",
   "execution_count": null,
   "metadata": {},
   "outputs": [],
   "source": [
    "dicio = {\n",
    "    'Marca': 'Ford',\n",
    "    'Modelo':'Mustang',\n",
    "    'Ano': 1994\n",
    "}\n",
    "\n",
    "print(dicio)"
   ]
  },
  {
   "cell_type": "markdown",
   "metadata": {},
   "source": [
    "#### copy( )"
   ]
  },
  {
   "cell_type": "code",
   "execution_count": null,
   "metadata": {},
   "outputs": [],
   "source": [
    "dicio2 = dicio.copy()\n",
    "\n",
    "print(dicio2)"
   ]
  },
  {
   "cell_type": "markdown",
   "metadata": {},
   "source": [
    "Utilizando igual apenas cria uma referência"
   ]
  },
  {
   "cell_type": "code",
   "execution_count": null,
   "metadata": {},
   "outputs": [],
   "source": [
    "dicio3 = dicio\n",
    "\n",
    "print(dicio3)"
   ]
  },
  {
   "cell_type": "code",
   "execution_count": null,
   "metadata": {},
   "outputs": [],
   "source": [
    "dicio2['Modelo'] = 'Fusion'\n",
    "dicio3['Modelo'] = 'Focus'"
   ]
  },
  {
   "cell_type": "code",
   "execution_count": null,
   "metadata": {},
   "outputs": [],
   "source": [
    "print(dicio)\n",
    "print(dicio2)\n",
    "print(dicio3)"
   ]
  },
  {
   "cell_type": "markdown",
   "metadata": {},
   "source": [
    "#### clear( )"
   ]
  },
  {
   "cell_type": "code",
   "execution_count": null,
   "metadata": {},
   "outputs": [],
   "source": [
    "dicio2.clear()\n",
    "\n",
    "print(dicio2)"
   ]
  },
  {
   "cell_type": "markdown",
   "metadata": {},
   "source": [
    "#### keys( )"
   ]
  },
  {
   "cell_type": "code",
   "execution_count": null,
   "metadata": {},
   "outputs": [],
   "source": [
    "dicio = {\n",
    "    'Marca': 'Ford',\n",
    "    'Modelo':'Mustang',\n",
    "    'Ano': 1994\n",
    "}"
   ]
  },
  {
   "cell_type": "code",
   "execution_count": null,
   "metadata": {},
   "outputs": [],
   "source": [
    "x = dicio.keys()\n",
    "\n",
    "print(x)"
   ]
  },
  {
   "cell_type": "code",
   "execution_count": null,
   "metadata": {},
   "outputs": [],
   "source": [
    "for key in dicio:\n",
    "    print(key)"
   ]
  },
  {
   "cell_type": "markdown",
   "metadata": {},
   "source": [
    "#### value( )\n",
    "retorna os valores"
   ]
  },
  {
   "cell_type": "code",
   "execution_count": null,
   "metadata": {},
   "outputs": [],
   "source": [
    "x = dicio.values()\n",
    "\n",
    "print(x)"
   ]
  },
  {
   "cell_type": "code",
   "execution_count": null,
   "metadata": {},
   "outputs": [],
   "source": [
    "for valor in dicio.values():\n",
    "    print(valor)"
   ]
  },
  {
   "cell_type": "markdown",
   "metadata": {},
   "source": [
    "#### items( )\n",
    "retorna uma tupla com as chaves e os valores"
   ]
  },
  {
   "cell_type": "code",
   "execution_count": null,
   "metadata": {},
   "outputs": [],
   "source": [
    "x = dicio.items()\n",
    "\n",
    "print(x)"
   ]
  },
  {
   "cell_type": "code",
   "execution_count": null,
   "metadata": {},
   "outputs": [],
   "source": [
    "for chave, valor in dicio.items():\n",
    "    print(f'Chave: {chave} \\n Valor: {valor} \\n')"
   ]
  },
  {
   "cell_type": "markdown",
   "metadata": {},
   "source": [
    "#### get( )\n",
    "retorna o valor da chave"
   ]
  },
  {
   "cell_type": "code",
   "execution_count": null,
   "metadata": {},
   "outputs": [],
   "source": [
    "dicio = {\n",
    "    'Marca': 'Ford',\n",
    "    'Modelo':'Mustang',\n",
    "    'Ano': 1994\n",
    "}"
   ]
  },
  {
   "cell_type": "code",
   "execution_count": null,
   "metadata": {},
   "outputs": [],
   "source": [
    "valor = dicio.get('Marca')\n",
    "print('Valor da chave:', valor)"
   ]
  },
  {
   "cell_type": "markdown",
   "metadata": {},
   "source": [
    "#### pop( )\n",
    "remove o valor e a chave, especificado pela chave"
   ]
  },
  {
   "cell_type": "code",
   "execution_count": null,
   "metadata": {},
   "outputs": [],
   "source": [
    "dicio2 = dicio.copy()\n",
    "\n",
    "dicio2.pop('Marca')\n",
    "print(dicio2)"
   ]
  },
  {
   "cell_type": "markdown",
   "metadata": {},
   "source": [
    "#### popitem( )\n",
    "remove o último par de chave e valor"
   ]
  },
  {
   "cell_type": "code",
   "execution_count": null,
   "metadata": {},
   "outputs": [],
   "source": [
    "#Metodo popitem() remove o último par de chave e valor\n",
    "\n",
    "dicio.popitem()\n",
    "print(dicio)"
   ]
  },
  {
   "cell_type": "markdown",
   "metadata": {},
   "source": [
    "#### setdefault( )\n",
    "retorna o valor da chave, caso não exista ela é criada com seu respectivo valor"
   ]
  },
  {
   "cell_type": "code",
   "execution_count": 2,
   "metadata": {},
   "outputs": [],
   "source": [
    "dicio = {\n",
    "    'Marca': 'Ford',\n",
    "    'Modelo':'Mustang',\n",
    "    'Ano': 1994\n",
    "}"
   ]
  },
  {
   "cell_type": "markdown",
   "metadata": {},
   "source": [
    "* Com chave criada"
   ]
  },
  {
   "cell_type": "code",
   "execution_count": 3,
   "metadata": {},
   "outputs": [
    {
     "name": "stdout",
     "output_type": "stream",
     "text": [
      "Valor da chave existente: Mustang\n"
     ]
    }
   ],
   "source": [
    "valor = dicio.setdefault('Modelo', 'Mustang')\n",
    "\n",
    "print('Valor da chave existente:', valor)"
   ]
  },
  {
   "cell_type": "code",
   "execution_count": 4,
   "metadata": {},
   "outputs": [
    {
     "name": "stdout",
     "output_type": "stream",
     "text": [
      "Valor da chave existente: Mustang\n"
     ]
    }
   ],
   "source": [
    "valor = dicio.setdefault('Modelo')\n",
    "\n",
    "print('Valor da chave existente:', valor)"
   ]
  },
  {
   "cell_type": "markdown",
   "metadata": {},
   "source": [
    "* Sem chave criada"
   ]
  },
  {
   "cell_type": "code",
   "execution_count": 5,
   "metadata": {
    "scrolled": true
   },
   "outputs": [
    {
     "name": "stdout",
     "output_type": "stream",
     "text": [
      "Valor da inexistente: Preto\n"
     ]
    }
   ],
   "source": [
    "valor = dicio.setdefault('Cor', 'Preto')\n",
    "\n",
    "print('Valor da inexistente:', valor)"
   ]
  },
  {
   "cell_type": "code",
   "execution_count": 6,
   "metadata": {},
   "outputs": [
    {
     "name": "stdout",
     "output_type": "stream",
     "text": [
      "{'Marca': 'Ford', 'Modelo': 'Mustang', 'Ano': 1994, 'Cor': 'Preto'}\n"
     ]
    }
   ],
   "source": [
    "print(dicio)"
   ]
  },
  {
   "cell_type": "code",
   "execution_count": null,
   "metadata": {
    "scrolled": false
   },
   "outputs": [],
   "source": [
    "cores = {\n",
    "    1:'azul',\n",
    "    2:'amarelo',\n",
    "    3:'cinza'\n",
    "}"
   ]
  },
  {
   "cell_type": "markdown",
   "metadata": {},
   "source": [
    "#### update( )\n",
    "insere par de {chave : valor}, caso chave já existe é atualizado seu valor"
   ]
  },
  {
   "cell_type": "code",
   "execution_count": null,
   "metadata": {},
   "outputs": [],
   "source": [
    "cores.update({4:'roxo'})\n",
    "\n",
    "print(cores)"
   ]
  },
  {
   "cell_type": "code",
   "execution_count": null,
   "metadata": {},
   "outputs": [],
   "source": [
    "cores.update({4:'preto'})\n",
    "\n",
    "print(cores)"
   ]
  },
  {
   "cell_type": "markdown",
   "metadata": {},
   "source": [
    "#### fromkeys( )\n",
    "Retorna um dicionário com as chaves e valores especificadas"
   ]
  },
  {
   "cell_type": "code",
   "execution_count": null,
   "metadata": {},
   "outputs": [],
   "source": [
    "keys = ('k1', 'k2', 'k3')\n",
    "value = 10"
   ]
  },
  {
   "cell_type": "code",
   "execution_count": null,
   "metadata": {},
   "outputs": [],
   "source": [
    "dicio = dict.fromkeys(keys, value)\n",
    "\n",
    "print(dicio)"
   ]
  },
  {
   "cell_type": "markdown",
   "metadata": {},
   "source": [
    "### Proposta\n",
    "\n",
    "1 - Crie um script em que: \n",
    "* O usuário digite as notas de n alunos;\n",
    "* Tais notas devem ser salvas em um dicionário;\n",
    "* Exiba todos os alunos registrados;\n",
    "* E mostre o aluno que obteve a maior nota.\n",
    "\n"
   ]
  }
 ],
 "metadata": {
  "kernelspec": {
   "display_name": "Python 3",
   "language": "python",
   "name": "python3"
  },
  "language_info": {
   "codemirror_mode": {
    "name": "ipython",
    "version": 3
   },
   "file_extension": ".py",
   "mimetype": "text/x-python",
   "name": "python",
   "nbconvert_exporter": "python",
   "pygments_lexer": "ipython3",
   "version": "3.7.2"
  }
 },
 "nbformat": 4,
 "nbformat_minor": 2
}
