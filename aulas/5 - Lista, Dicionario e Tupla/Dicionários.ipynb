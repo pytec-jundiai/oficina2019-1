@@ -278,7 +278,7 @@
  },
  {
   "cell_type": "code",
   "execution_count": null,
   "execution_count": 2,
   "metadata": {},
   "outputs": [],
   "source": [
@ -298,29 +298,64 @@
  },
  {
   "cell_type": "code",
   "execution_count": null,
   "metadata": {},
   "outputs": [],
   "execution_count": 3,
   "metadata": {},
   "outputs": [
    {
     "name": "stdout",
     "output_type": "stream",
     "text": [
      "Valor da chave existente: Mustang\n"
     ]
    }
   ],
   "source": [
    "valor = dicio.setdefault('Modelo', 'Mustang')\n",
    "\n",
    "print('Valor da chave existente:', valor)"
   ]
  },
  {
   "cell_type": "code",
   "execution_count": 4,
   "metadata": {},
   "outputs": [
    {
     "name": "stdout",
     "output_type": "stream",
     "text": [
      "Valor da chave existente: Mustang\n"
     ]
    }
   ],
   "source": [
    "valor = dicio.setdefault('Modelo')\n",
    "\n",
    "print('Valor da chave existente:', valor)"
   ]
  },
  {
   "cell_type": "markdown",
   "metadata": {},
   "source": [
    "* Com chave criada"
    "* Sem chave criada"
   ]
  },
  {
   "cell_type": "code",
   "execution_count": null,
   "execution_count": 5,
   "metadata": {
    "scrolled": true
   },
   "outputs": [],
   "outputs": [
    {
     "name": "stdout",
     "output_type": "stream",
     "text": [
      "Valor da inexistente: Preto\n"
     ]
    }
   ],
   "source": [
    "valor = dicio.setdefault('Cor', 'Preto')\n",
    "\n",
@ -329,9 +364,17 @@
  },
  {
   "cell_type": "code",
   "execution_count": null,
   "metadata": {},
   "outputs": [],
   "execution_count": 6,
   "metadata": {},
   "outputs": [
    {
     "name": "stdout",
     "output_type": "stream",
     "text": [
      "{'Marca': 'Ford', 'Modelo': 'Mustang', 'Ano': 1994, 'Cor': 'Preto'}\n"
     ]
    }
   ],
   "source": [
    "print(dicio)"
   ]