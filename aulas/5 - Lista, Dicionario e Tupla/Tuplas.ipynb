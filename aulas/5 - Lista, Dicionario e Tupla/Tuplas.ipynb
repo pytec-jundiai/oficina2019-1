{
 "cells": [
  {
   "cell_type": "markdown",
   "metadata": {},
   "source": [
    "# DEFINIÇÃO DE TUPLA\n",
    "\n",
    "Uma Tupla, assim como Lista é responsável em armazenar um série de valores no mesmo espaço de memória. A diferença é que Tuplas\n",
    "são imutáveis e usam parênteses para o seu corpo, enquanto uma Listas são possíveis de alterar seus valores no decorrer da execução e usam colchetes.\n",
    "\n",
    "O tratamento de um Tupla em relação aos seus índices, segue o mesmo padrão de Listas."
   ]
  },
  {
   "cell_type": "code",
   "execution_count": 6,
   "metadata": {},
   "outputs": [
    {
     "name": "stdout",
     "output_type": "stream",
     "text": [
      "Conteúdo da tupla: (1, 2, 3)\n",
      "Conteúdo do índice 2: 3 \n"
     ]
    }
   ],
   "source": [
    "# Criação de Tupla\n",
    "tupla = (1, 2, 3)\n",
    "\n",
    "# Exibição de toda tupla\n",
    "print('Conteúdo da tupla: {}'.format(tupla))\n",
    "\n",
    "# Exibição por índice\n",
    "print(f'Conteúdo do índice 2: {tupla[2]} ')"
   ]
  },
  {
   "cell_type": "code",
   "execution_count": null,
   "metadata": {},
   "outputs": [],
   "source": [
    "idades = (12, 23, 51, 44)\n",
    "\n",
    "# Deletar uma tupla\n",
    "def idades\n",
    "\n",
    "\n"
   ]
  },
  {
   "cell_type": "code",
   "execution_count": null,
   "metadata": {},
   "outputs": [],
   "source": [
    "# Criação de uma tupla vazia\n",
    "tupla_vazia = ()"
   ]
  }
 ],
 "metadata": {
  "kernelspec": {
   "display_name": "Python 3",
   "language": "python",
   "name": "python3"
  },
  "language_info": {
   "codemirror_mode": {
    "name": "ipython",
    "version": 3
   },
   "file_extension": ".py",
   "mimetype": "text/x-python",
   "name": "python",
   "nbconvert_exporter": "python",
   "pygments_lexer": "ipython3",
   "version": "3.7.0"
  }
 },
 "nbformat": 4,
 "nbformat_minor": 2
}
