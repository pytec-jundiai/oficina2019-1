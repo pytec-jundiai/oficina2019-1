{
 "cells": [
  {
   "cell_type": "markdown",
   "metadata": {},
   "source": [
    "# DEFINIÇÃO DE TUPLA\n",
    "\n",
    "Uma Tupla, assim como Lista é responsável em armazenar um série de valores no mesmo espaço de memória. A diferença é que Tuplas\n",
    "são imutáveis e usam parênteses para o seu corpo, enquanto uma Listas são possíveis de alterar seus valores no decorrer da execução e usam colchetes.\n",
    "\n",
    "O tratamento de um Tupla em relação aos seus índices, segue o mesmo padrão de Listas."
   ]
  },
  {
   "cell_type": "code",
   "execution_count": 1,
   "metadata": {},
   "outputs": [
    {
     "name": "stdout",
     "output_type": "stream",
     "text": [
      "Conteúdo da tupla: ('Pastel', 'Agua', 'Pizza', 'Puddim', 'Cebola', 'Queijo')\n"
     ]
    }
   ],
   "source": [
    "# Criação de Tupla\n",
    "lanche = ('Pastel','Agua','Pizza','Puddim','Cebola','Queijo')\n",
    "\n",
    "# Exibição de toda tupla\n",
    "print('Conteúdo da tupla: {}'.format(lanche))"
   ]
  },
  {
   "cell_type": "code",
   "execution_count": 2,
   "metadata": {},
   "outputs": [
    {
     "name": "stdout",
     "output_type": "stream",
     "text": [
      "<class 'tuple'>\n"
     ]
    }
   ],
   "source": [
    "#Vendo o tipo de dado\n",
    "\n",
    "print(type(lanche))"
   ]
  },
  {
   "cell_type": "code",
   "execution_count": null,
   "metadata": {},
   "outputs": [],
   "source": [
    "#tambem podemos declarar uma tupla  sem os parenteses\n",
    "\n",
    "#lanche = 'Hamburguer','Suco','Pizza','Puddim'\n",
    "#print(lanche)"
   ]
  },
  {
   "cell_type": "code",
   "execution_count": 3,
   "metadata": {},
   "outputs": [
    {
     "name": "stdout",
     "output_type": "stream",
     "text": [
      "Pizza\n"
     ]
    }
   ],
   "source": [
    "#Exibindo um elemento da tupla\n",
    "print(lanche[2])"
   ]
  },
  {
   "cell_type": "markdown",
   "metadata": {},
   "source": [
    "# Fatiamento de tuplas"
   ]
  },
  {
   "cell_type": "code",
   "execution_count": 4,
   "metadata": {},
   "outputs": [
    {
     "name": "stdout",
     "output_type": "stream",
     "text": [
      "Elemento 1 até o elemento 2 ('Agua', 'Pizza')\n",
      "Elemento 0 até o elemento 1 ('Pastel', 'Agua')\n",
      "Elemento 0 até o final, pulando de dois em dois ('Pastel', 'Pizza', 'Cebola')\n"
     ]
    }
   ],
   "source": [
    "print('Elemento 1 até o elemento 2',lanche[1:3])\n",
    "\n",
    "print('Elemento 0 até o elemento 1',lanche[:2])\n",
    "\n",
    "print('Elemento 0 até o final, pulando de dois em dois',lanche[::2])"
   ]
  },
  {
   "cell_type": "code",
   "execution_count": null,
   "metadata": {},
   "outputs": [],
   "source": [
    "#Tuplas sao imutaveis\n",
    "#Tentando alterar um elemento da tupla"
   ]
  },
  {
   "cell_type": "code",
   "execution_count": null,
   "metadata": {},
   "outputs": [],
   "source": [
    "lanche[1] = 'Refrigerante'\n",
    "print(lanche[1])"
   ]
  },
  {
   "cell_type": "code",
   "execution_count": 5,
   "metadata": {},
   "outputs": [
    {
     "name": "stdout",
     "output_type": "stream",
     "text": [
      "Na minha cesta eu tenho Pastel\n",
      "Na minha cesta eu tenho Agua\n",
      "Na minha cesta eu tenho Pizza\n",
      "Na minha cesta eu tenho Puddim\n",
      "Na minha cesta eu tenho Cebola\n",
      "Na minha cesta eu tenho Queijo\n"
     ]
    }
   ],
   "source": [
    "#Acessando os elementos de uma tupla com o for\n",
    "\n",
    "for comida in lanche:\n",
    "    print(f'Na minha cesta eu tenho {comida}')"
   ]
  },
  {
   "cell_type": "markdown",
   "metadata": {},
   "source": [
    "### Usando while"
   ]
  },
  {
   "cell_type": "code",
   "execution_count": 6,
   "metadata": {},
   "outputs": [
    {
     "name": "stdout",
     "output_type": "stream",
     "text": [
      "Comida: Pastel\n",
      "Comida: Agua\n",
      "Comida: Pizza\n",
      "Comida: Puddim\n",
      "Comida: Cebola\n",
      "Comida: Queijo\n"
     ]
    }
   ],
   "source": [
    "indice = 0\n",
    "while indice < len(lanche):\n",
    "    print('Comida:',lanche[indice])\n",
    "    indice += 1"
   ]
  },
  {
   "cell_type": "code",
   "execution_count": 7,
   "metadata": {},
   "outputs": [
    {
     "name": "stdout",
     "output_type": "stream",
     "text": [
      "['Agua', 'Cebola', 'Pastel', 'Pizza', 'Puddim', 'Queijo']\n"
     ]
    }
   ],
   "source": [
    "#organizando os elementos de uma tupla em ordem alfabetica\n",
    "print(sorted(lanche))"
   ]
  },
  {
   "cell_type": "code",
   "execution_count": 8,
   "metadata": {},
   "outputs": [
    {
     "name": "stdout",
     "output_type": "stream",
     "text": [
      "Elementos somados (4, 8, 5, 6, 9, 2)\n"
     ]
    }
   ],
   "source": [
    "#Juntando tuplas\n",
    "a = (4,8,5)\n",
    "b = (6,9,2)\n",
    "c = a + b\n",
    "print('Elementos somados',c)"
   ]
  },
  {
   "cell_type": "code",
   "execution_count": 9,
   "metadata": {},
   "outputs": [
    {
     "name": "stdout",
     "output_type": "stream",
     "text": [
      "O numero 9 apareceu 3 vezes\n"
     ]
    }
   ],
   "source": [
    "#Usando o metodo count para contar quantas vezes um numero aparece na lista\n",
    "\n",
    "numeros = (4,8,9,6,9,9)\n",
    "contar = numeros.count(9)\n",
    "print(f'O numero 9 apareceu {contar} vezes')\n"
   ]
  },
  {
   "cell_type": "code",
   "execution_count": 10,
   "metadata": {},
   "outputs": [
    {
     "name": "stdout",
     "output_type": "stream",
     "text": [
      "O numero 6 aparace na posição 3\n"
     ]
    }
   ],
   "source": [
    "#Usando o metodo index localiza e informa a posição de um determinado elemento\n",
    "\n",
    "inserir = numeros.index(6)\n",
    "print(f'O numero 6 aparace na posição {inserir}')"
   ]
  },
  {
   "cell_type": "markdown",
   "metadata": {},
   "source": [
    "# Exercicio\n",
    "\n",
    "Crie um programa que tenha uma dupla totalmente preenchida com uma contagem por extenso, \n",
    "de zero até vinte. Seu programa deverá ler um número pelo teclado (entre 0 e 20) e mostrá-lo por extenso."
   ]
  },
  {
   "cell_type": "markdown",
   "metadata": {},
   "source": [
    "## Exercicio 2\n",
    "\n",
    "Crie uma tupla preenchida com os 20 primeiros colocados da Tabela do Campeonato Brasileiro de Futebol, \n",
    "na ordem de colocação. Depois mostre:\n",
    "\n",
    "a) Os 5 primeiros times.\n",
    "b) Os últimos 4 colocados.\n",
    "c) Times em ordem alfabética. \n",
    "d) Em que posição está o time do Santos."
   ]
  },
  {
   "cell_type": "code",
   "execution_count": null,
   "metadata": {},
   "outputs": [],
   "source": []
  }
 ],
 "metadata": {
  "kernelspec": {
   "display_name": "Python 3",
   "language": "python",
   "name": "python3"
  },
  "language_info": {
   "codemirror_mode": {
    "name": "ipython",
    "version": 3
   },
   "file_extension": ".py",
   "mimetype": "text/x-python",
   "name": "python",
   "nbconvert_exporter": "python",
   "pygments_lexer": "ipython3",
   "version": "3.7.0"
  }
 },
 "nbformat": 4,
 "nbformat_minor": 2
}
