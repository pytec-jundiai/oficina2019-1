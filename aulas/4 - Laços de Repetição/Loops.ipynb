{
 "cells": [
  {
   "cell_type": "markdown",
   "metadata": {},
   "source": [
    "## Laços de Repetições\n",
    "#### While:"
   ]
  },
  {
   "cell_type": "code",
   "execution_count": 9,
   "metadata": {},
   "outputs": [
    {
     "name": "stdout",
     "output_type": "stream",
     "text": [
      "0\n",
      "1\n",
      "2\n",
      "3\n",
      "4\n",
      "5\n"
     ]
    }
   ],
   "source": [
    "# imprimir os valores de 0 a 5\n",
    "counter = 0\n",
    "while counter < 6:\n",
    "    print(counter)\n",
    "    counter = counter + 1"
   ]
  },
  {
   "cell_type": "code",
   "execution_count": 10,
   "metadata": {},
   "outputs": [
    {
     "name": "stdout",
     "output_type": "stream",
     "text": [
      "0\n",
      "1\n",
      "2\n",
      "3\n",
      "4\n",
      "5\n",
      "Contagem terminada\n"
     ]
    }
   ],
   "source": [
    "counter = 0\n",
    "while counter < 6:\n",
    "    print(counter)\n",
    "    counter = counter + 1\n",
    "\n",
    "else:\n",
    "    print('Contagem terminada')"
   ]
  },
  {
   "cell_type": "code",
   "execution_count": 12,
   "metadata": {},
   "outputs": [
    {
     "name": "stdout",
     "output_type": "stream",
     "text": [
      "0\n",
      "1\n",
      "2\n",
      "3\n"
     ]
    }
   ],
   "source": [
    "counter = 0\n",
    "while counter < 100:\n",
    "    if counter == 4:\n",
    "        break\n",
    "    else:\n",
    "        pass\n",
    "    print(counter)\n",
    "    counter += 1"
   ]
  },
  {
   "cell_type": "code",
   "execution_count": 2,
   "metadata": {},
   "outputs": [
    {
     "name": "stdout",
     "output_type": "stream",
     "text": [
      "Digite a quantidade de numeros a serem somados: 3\n",
      "Digite um numero: 5\n",
      "Digite um numero: 5\n",
      "Digite um numero: 5\n",
      "Foram somados ao todo 3 numeros\n",
      "A soma dos valores é de 15\n"
     ]
    }
   ],
   "source": [
    "n1 = int(input('Digite a quantidade de numeros a serem somados: '))\n",
    "soma = cont = 0\n",
    "\n",
    "while cont < n1:\n",
    "    num = int(input('Digite um numero: '))\n",
    "    soma += num\n",
    "    cont += 1\n",
    "\n",
    "print(f'''Foram somados ao todo {cont} numeros\n",
    "A soma dos valores é de {soma}''')"
   ]
  },
  {
   "cell_type": "code",
   "execution_count": 3,
   "metadata": {},
   "outputs": [
    {
     "name": "stdout",
     "output_type": "stream",
     "text": [
      "Me da um oi: tchau\n",
      "Me da um oi: nao\n",
      "Me da um oi: naoooooooo\n",
      "Me da um oi: NAOOOOOOOOOOOOOO\n",
      "Me da um oi: oi\n",
      "Você me deu um Oi !\n"
     ]
    }
   ],
   "source": [
    "palavra_igual = ' '\n",
    "while palavra_igual != 'oi'.strip():\n",
    "    palavra_igual = input('Me da um oi: ')\n",
    "else:\n",
    "    print('Você me deu um Oi !')"
   ]
  },
  {
   "cell_type": "markdown",
   "metadata": {},
   "source": [
    "#### For:"
   ]
  },
  {
   "cell_type": "code",
   "execution_count": 5,
   "metadata": {},
   "outputs": [
    {
     "name": "stdout",
     "output_type": "stream",
     "text": [
      "f\n",
      "a\n",
      "t\n",
      "e\n",
      "c\n"
     ]
    }
   ],
   "source": [
    "for letra in 'fatec':\n",
    "    print(letra)"
   ]
  },
  {
   "cell_type": "code",
   "execution_count": 7,
   "metadata": {},
   "outputs": [
    {
     "name": "stdout",
     "output_type": "stream",
     "text": [
      "0\n",
      "1\n",
      "2\n",
      "3\n",
      "4\n"
     ]
    }
   ],
   "source": [
    "for num in range(0, 5):\n",
    "    print(num)"
   ]
  },
  {
   "cell_type": "code",
   "execution_count": 11,
   "metadata": {},
   "outputs": [
    {
     "name": "stdout",
     "output_type": "stream",
     "text": [
      "Na 1° posição temos o valor 9\n",
      "Na 2° posição temos o valor 5\n",
      "Na 3° posição temos o valor 7\n",
      "Na 4° posição temos o valor 3\n",
      "Na 5° posição temos o valor 1\n",
      "Na 6° posição temos o valor 4\n",
      "Na 7° posição temos o valor 0\n",
      "Na 8° posição temos o valor 6\n",
      "Na 9° posição temos o valor 2\n",
      "Na 10° posição temos o valor 7\n"
     ]
    }
   ],
   "source": [
    "n = 9,5,7,3,1,4,0,6,2,7\n",
    "\n",
    "for posicao,numero in enumerate(n):\n",
    "    print(f'Na {posicao+1}° posição temos o valor {numero}')"
   ]
  },
  {
   "cell_type": "markdown",
   "metadata": {},
   "source": [
    "### Proposta\n",
    "1 - Faça um programa que:\n",
    "* Receba um número inteiro;\n",
    "* E exiba sua tabuada.\n",
    "  \n",
    "2 - Crie um programa que mostre:\n",
    "* Os números palíndromos até o número especificado pelo usuário.\n",
    "(dica: utilize fatiamento de strings)"
   ]
  },
  {
   "cell_type": "code",
   "execution_count": null,
   "metadata": {},
   "outputs": [],
   "source": []
  }
 ],
 "metadata": {
  "kernelspec": {
   "display_name": "Python 3",
   "language": "python",
   "name": "python3"
  },
  "language_info": {
   "codemirror_mode": {
    "name": "ipython",
    "version": 3
   },
   "file_extension": ".py",
   "mimetype": "text/x-python",
   "name": "python",
   "nbconvert_exporter": "python",
   "pygments_lexer": "ipython3",
   "version": "3.7.0"
  }
 },
 "nbformat": 4,
 "nbformat_minor": 2
}
