{
 "cells": [
  {
   "cell_type": "markdown",
   "metadata": {},
   "source": [
    "## Laços de Repetições\n",
    "### While:"
   ]
  },
  {
   "cell_type": "code",
   "execution_count": null,
   "metadata": {},
   "outputs": [],
   "source": [
    "# imprimir os valores de 0 a 5\n",
    "counter = 0\n",
    "while counter < 6:\n",
    "    print(counter)\n",
    "    counter = counter + 1"
   ]
  },
  {
   "cell_type": "code",
   "execution_count": null,
   "metadata": {},
   "outputs": [],
   "source": [
    "counter = 0\n",
    "while counter < 6:\n",
    "    print(counter)\n",
    "    counter += 1\n",
    "else:\n",
    "    print('Contagem terminada')"
   ]
  },
  {
   "cell_type": "code",
   "execution_count": null,
   "metadata": {},
   "outputs": [],
   "source": [
    "counter = 0\n",
    "while counter < 100:\n",
    "    if counter == 4:\n",
    "        break\n",
    "    print(counter)\n",
    "    counter += 1"
   ]
  },
  {
   "cell_type": "code",
   "execution_count": null,
   "metadata": {},
   "outputs": [],
   "source": [
    "n1 = int(input('Digite a quantidade de numeros a serem somados: '))\n",
    "soma, cont = 0, 0\n",
    "\n",
    "while cont < n1:\n",
    "    num = int(input('Digite um numero: '))\n",
    "    soma += num\n",
    "    cont += 1\n",
    "\n",
    "print('\\n')\n",
    "print(f'''Foram somados ao todo {cont} numeros\n",
    "A soma dos valores é de {soma}''')"
   ]
  },
  {
   "cell_type": "code",
   "execution_count": 4,
   "metadata": {},
   "outputs": [
    {
     "name": "stdout",
     "output_type": "stream",
     "text": [
      "Digite o seu sexo [M/F]: mmmmmm  \n",
      "Cadastrado com Sucesso !\n"
     ]
    }
   ],
   "source": [
    "resp = input('Digite o seu sexo [M/F]: ').lower().strip()[0]\n",
    "\n",
    "while resp not in 'mf':\n",
    "    resp = input('Dados Invalidos. Digite novamente! ')\n",
    "\n",
    "print('Cadastrado com Sucesso !')\n"
   ]
  },
  {
   "cell_type": "markdown",
   "metadata": {},
   "source": [
    "#### Do while pythoniano:"
   ]
  },
  {
   "cell_type": "code",
   "execution_count": null,
   "metadata": {},
   "outputs": [],
   "source": [
    "while True:\n",
    "    n = int(input('Digite um número maior que dez: '))\n",
    "    \n",
    "    if n > 10:\n",
    "        break"
   ]
  },
  {
   "cell_type": "markdown",
   "metadata": {},
   "source": [
    "### For:"
   ]
  },
  {
   "cell_type": "code",
   "execution_count": null,
   "metadata": {},
   "outputs": [],
   "source": [
    "for letra in 'fatec':\n",
    "    print(letra)"
   ]
  },
  {
   "cell_type": "markdown",
   "metadata": {},
   "source": [
    "#### range( )  \n",
    "recebe até 3 parâmetros: início, final, taxa"
   ]
  },
  {
   "cell_type": "code",
   "execution_count": null,
   "metadata": {},
   "outputs": [],
   "source": [
    "for num in range(0, 5):\n",
    "    print(num)"
   ]
  },
  {
   "cell_type": "code",
   "execution_count": null,
   "metadata": {},
   "outputs": [],
   "source": [
    "for num in range(0, 10, 2):\n",
    "    print(num)"
   ]
  },
  {
   "cell_type": "markdown",
   "metadata": {},
   "source": [
    "#### enumerate( )\n",
    "retorna uma tupla com o índice e seu valor"
   ]
  },
  {
   "cell_type": "code",
   "execution_count": null,
   "metadata": {},
   "outputs": [],
   "source": [
    "numeros = [1, 3, 5, 7]\n",
    "\n",
    "for i in enumerate(numeros):\n",
    "    print(i)"
   ]
  },
  {
   "cell_type": "code",
   "execution_count": null,
   "metadata": {},
   "outputs": [],
   "source": [
    "for i, v in enumerate(numeros):\n",
    "    print(f'posição: {i}, valor {v}')"
   ]
  },
  {
   "cell_type": "markdown",
   "metadata": {},
   "source": [
    "### Proposta\n",
    "1 - Faça um programa que:\n",
    "* Receba um número inteiro;\n",
    "* E exiba sua tabuada.\n",
    "  \n",
    "2 - Crie um programa que mostre:\n",
    "* Os números palíndromos até o número especificado pelo usuário.\n",
    "(dica: utilize fatiamento de strings)"
   ]
  }
 ],
 "metadata": {
  "kernelspec": {
   "display_name": "Python 3",
   "language": "python",
   "name": "python3"
  },
  "language_info": {
   "codemirror_mode": {
    "name": "ipython",
    "version": 3
   },
   "file_extension": ".py",
   "mimetype": "text/x-python",
   "name": "python",
   "nbconvert_exporter": "python",
   "pygments_lexer": "ipython3",
   "version": "3.7.2"
  }
 },
 "nbformat": 4,
 "nbformat_minor": 2
}
